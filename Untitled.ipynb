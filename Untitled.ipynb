{
 "cells": [
  {
   "cell_type": "markdown",
   "id": "21f558fa",
   "metadata": {},
   "source": [
    "# LangChain  \n",
    "\n",
    "O LangChain é uma cadeia de linguagens que oferece componentes apropriados para a criação de aplicativos baseados em modelos de LLMs. Componentes de carregamento da APIs de modelos pagos, carregamento de modelos offline, formatação de output dos modelos, template de prompt e outros, são exemplos dos componentes do framework.  \n",
    "  Há dois modelos principais usados: LLMs e Chat Models. Internamente, os modelos de LLMs são tratados como modelos de texto puro, recebendo como entrada um string e retornando outro string. Os Chat Models são feitos especificamente para conversação. Como entrada, recebe o string como uma lista de várias mensagens e retorna um único string (resposta). \n",
    "   \n",
    "### Considerações \n",
    "As estratégias usadas pelo framework para tratar ambos os modelos é bastante diferente. Assim, podemos conluir que o **mais adequado** é separar projetos com acordo com a escolha do tipo de modelo a ser escolhido. Também é importante ter em mente que **diferentes modelos trabalham com diferentes tipos de estruturas de dados durante seu transporte de entrada e saída**. Os modelos da OpenAI, por exemplo, trabalham com estruturas **JSON**. Isso significa que o prompt usado para um modelo pode não ser transferido para outros. Os prompts feitos pela LangChain são melhores aproveitados com os modelos da OpenAI.\n",
    "\n",
    "## Chat Models  \n",
    "\n",
    "Recebem uma lista de mensagens de entrada e retorna uma única string de saída. Todas as mensagens do modelo tem uma propriedade `role` ou `content`. Na propriedade `role`, definimos o papel de quem está passsando a mensagem: `user`(usuário) ou `system` (sistema). A propriedade `content` descreve o conteúdo da mensagem. As propriedades `content` podem gerar strings ou listas de dicionários como saídas. Há um terceiro parâmetro, chamado de `additional_kwargs`, que passa informações adicionais da mensagem."
   ]
  },
  {
   "cell_type": "markdown",
   "id": "abfb07f6",
   "metadata": {},
   "source": [
    "Quanto mais componentes são incluídos no aplicativo baseado em LangChain, mais chamadas de modelos LLMs são feitos. A melhor forma para encontrar erros e entender o prosseguimento do fluxo do código, assim como as chamadas das APIs, precisa-se depurar o código. O LangSmith ajuda nesse sentido."
   ]
  },
  {
   "cell_type": "code",
   "execution_count": 1,
   "id": "8966de1a",
   "metadata": {},
   "outputs": [],
   "source": [
    "from langchain_openai import ChatOpenAI\n",
    "\n",
    "llm = ChatOpenAI(openai_api_key=\"\")"
   ]
  },
  {
   "cell_type": "code",
   "execution_count": 2,
   "id": "70ad232b",
   "metadata": {},
   "outputs": [
    {
     "data": {
      "text/plain": [
       "AIMessage(content='Langsmith pode nos ajudar com testes de várias maneiras:\\n\\n1. Gerando dados de teste: Langsmith pode gerar dados de teste realistas e variados, ajudando a criar conjuntos de dados abrangentes para testar algoritmos, modelos de aprendizado de máquina e outros sistemas.\\n\\n2. Executando testes automatizados: Langsmith pode executar casos de teste automatizados, incluindo testes de unidade e testes de integração, ajudando a identificar problemas e falhas no código.\\n\\n3. Realizando testes de usabilidade: Langsmith pode simular interações humanas para testar a usabilidade de um software ou aplicativo, ajudando a identificar possíveis problemas de interface do usuário e melhorar a experiência do usuário.\\n\\n4. Testando a segurança: Langsmith pode ser usado para executar testes de penetração e identificar vulnerabilidades em sistemas de software, ajudando a fortalecer a segurança dos sistemas.\\n\\n5. Automatizando testes de regressão: Langsmith pode ser usado para automatizar testes de regressão, ajudando a garantir que as alterações recentes no código não tenham introduzido novos erros ou quebras em funcionalidades existentes.\\n\\nEm resumo, Langsmith é uma ferramenta versátil que pode auxiliar em diferentes aspectos dos testes de software, melhorando a eficiência, a precisão e a qualidade dos testes realizados.')"
      ]
     },
     "execution_count": 2,
     "metadata": {},
     "output_type": "execute_result"
    }
   ],
   "source": [
    "llm.invoke(\"Como langsmith pode nos ajudar com testes?\")"
   ]
  },
  {
   "cell_type": "code",
   "execution_count": 3,
   "id": "9367b7c7",
   "metadata": {},
   "outputs": [],
   "source": [
    "from langchain_core.prompts import ChatPromptTemplate\n",
    "prompt = ChatPromptTemplate.from_messages([\n",
    "    (\"system\", \"Você é um redator de documentação técnica de classe mundial.\"),\n",
    "    (\"user\", \"{input}\")\n",
    "])"
   ]
  },
  {
   "cell_type": "code",
   "execution_count": 4,
   "id": "dfbe1128",
   "metadata": {},
   "outputs": [],
   "source": [
    "chain = prompt | llm "
   ]
  },
  {
   "cell_type": "code",
   "execution_count": 6,
   "id": "25b19ac9",
   "metadata": {},
   "outputs": [
    {
     "data": {
      "text/plain": [
       "AIMessage(content='Langsmith pode ajudar com testes de várias maneiras:\\n\\n1. Automação de testes: Langsmith pode escrever scripts de teste automatizados para várias etapas do processo de desenvolvimento, desde testes de unidade até testes de integração e testes de aceitação. Esses scripts podem ser executados repetidamente para garantir que o software esteja funcionando corretamente e cumprindo os requisitos.\\n\\n2. Geração de dados de teste: Langsmith pode gerar dados de teste realistas e abrangentes para ajudar a validar a funcionalidade do software. Isso inclui a criação de conjuntos de dados de teste complexos e a simulação de diferentes cenários de teste.\\n\\n3. Criação de planos de teste: Langsmith pode ajudar a criar planos de teste detalhados, fornecendo instruções claras e concisas sobre como executar os testes. Isso inclui a identificação dos casos de teste, a especificação dos critérios de sucesso e a definição das etapas necessárias para executar os testes.\\n\\n4. Documentação de testes: Langsmith pode escrever documentação detalhada sobre os testes realizados, incluindo os resultados obtidos, os problemas encontrados e as soluções aplicadas. Isso ajuda a manter um registro claro de todo o processo de teste e facilita a colaboração entre os membros da equipe.\\n\\n5. Revisão de código: Langsmith pode revisar o código-fonte do software em busca de possíveis problemas ou erros que possam afetar a qualidade ou a estabilidade do software. Isso inclui a identificação de práticas de codificação inadequadas, a sugestão de melhorias e a revisão de boas práticas de desenvolvimento.\\n\\nEm resumo, Langsmith pode desempenhar um papel fundamental na melhoria da qualidade do software por meio da automação de testes, geração de dados de teste, criação de planos de teste, documentação de testes e revisão de código.')"
      ]
     },
     "execution_count": 6,
     "metadata": {},
     "output_type": "execute_result"
    }
   ],
   "source": [
    "chain.invoke({\"input\": \"Como langsmith pode nos ajudar com testes?\"})"
   ]
  },
  {
   "cell_type": "code",
   "execution_count": 9,
   "id": "963a2030",
   "metadata": {},
   "outputs": [],
   "source": [
    "from langchain_core.output_parsers import StrOutputParser\n",
    "\n",
    "output_parser = StrOutputParser()\n",
    "chain = prompt | llm | output_parser"
   ]
  },
  {
   "cell_type": "code",
   "execution_count": 11,
   "id": "0c89bcac",
   "metadata": {},
   "outputs": [
    {
     "data": {
      "text/plain": [
       "'Como um especialista em documentação técnica, posso ajudar a equipe de testes de várias maneiras. Aqui estão algumas maneiras pelas quais posso contribuir:\\n\\n1. Criação de casos de teste: Posso ajudar a escrever casos de teste detalhados e abrangentes para garantir que todas as funcionalidades do software sejam testadas adequadamente. Isso pode incluir a descrição das etapas para reproduzir um bug específico ou para testar um recurso específico.\\n\\n2. Documentação de requisitos de teste: Posso colaborar com a equipe de desenvolvimento e a equipe de testes para documentar os requisitos de teste. Isso envolve descrever claramente as funcionalidades que devem ser testadas, os critérios de aceitação e quaisquer dependências ou restrições.\\n\\n3. Documentação de planos de teste: Posso ajudar a equipe de testes a criar planos de teste detalhados, que descrevem os diferentes tipos de testes a serem executados, como testes de unidade, testes de integração, testes de sistema, etc. Esses planos de teste podem incluir uma descrição das etapas de teste, os dados necessários e os resultados esperados.\\n\\n4. Criação de relatórios de teste: Posso auxiliar na criação de relatórios de teste claros e concisos, que documentam os resultados dos testes realizados. Isso pode incluir a descrição dos problemas encontrados, sua gravidade e sugestões para corrigi-los.\\n\\n5. Revisão de documentação existente: Posso revisar a documentação de testes existente para garantir sua precisão, clareza e completude. Isso inclui verificar se os casos de teste estão atualizados e se a documentação está alinhada com as últimas alterações no software.\\n\\nLembre-se de que, como um escritor de documentação técnica, meu objetivo principal é facilitar a compreensão e o uso do software, fornecendo informações claras e precisas para a equipe de testes. Estou à disposição para ajudar em qualquer etapa do processo de teste para garantir que a equipe esteja bem informada e possa realizar testes eficazes.'"
      ]
     },
     "execution_count": 11,
     "metadata": {},
     "output_type": "execute_result"
    }
   ],
   "source": [
    "chain.invoke({\"input\": \"Como langsmith pode nos ajudar com testes?\"})"
   ]
  },
  {
   "cell_type": "code",
   "execution_count": null,
   "id": "cf730cb3",
   "metadata": {},
   "outputs": [],
   "source": []
  }
 ],
 "metadata": {
  "kernelspec": {
   "display_name": "Python 3 (ipykernel)",
   "language": "python",
   "name": "python3"
  },
  "language_info": {
   "codemirror_mode": {
    "name": "ipython",
    "version": 3
   },
   "file_extension": ".py",
   "mimetype": "text/x-python",
   "name": "python",
   "nbconvert_exporter": "python",
   "pygments_lexer": "ipython3",
   "version": "3.11.5"
  }
 },
 "nbformat": 4,
 "nbformat_minor": 5
}
